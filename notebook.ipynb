{
 "cells": [
  {
   "cell_type": "code",
   "execution_count": 1,
   "metadata": {},
   "outputs": [],
   "source": [
    "import numpy as np\n",
    "import random"
   ]
  },
  {
   "cell_type": "code",
   "execution_count": 2,
   "metadata": {},
   "outputs": [
    {
     "data": {
      "text/plain": [
       "'Four score and seven years ago our fathers brought forth on this continent, a new nation, conceived in Liberty, and dedicated to the proposition that all men are created equal.\\n\\nNow we are engaged in '"
      ]
     },
     "execution_count": 2,
     "metadata": {},
     "output_type": "execute_result"
    }
   ],
   "source": [
    "# Original file\n",
    "with open('secret.txt', 'r') as file:\n",
    "    text = file.read()\n",
    "text[:200]"
   ]
  },
  {
   "cell_type": "code",
   "execution_count": null,
   "metadata": {},
   "outputs": [],
   "source": [
    "def encode(file_path, keys, max_bin_digit=16):\n",
    "\n",
    "    with open(file_path, 'r') as file:\n",
    "        text = file.read()\n",
    "\n",
    "    bin_str = ''.join([bin(ord(c))[2:].zfill(max_bin_digit) for c in text])\n",
    "    shuffled_bin = list(bin_str)\n",
    "    for key in keys:\n",
    "        # shuffle the binary digits many times using different keys\n",
    "        random.seed(key)\n",
    "        random.shuffle(shuffled_bin)\n",
    "\n",
    "    binary_data = ''.join(shuffled_bin)\n",
    "    binary_values = bytearray(int(binary_data[i:i+8], 2) for i in range(0, len(binary_data), 8))\n",
    "    with open(file_path.replace(\".txt\", \"_encoded.bin\"), 'wb') as file:\n",
    "        file.write(binary_values)\n",
    "\n",
    "    if (10 ** len(str(max(keys)))) ** len(keys) < 2**128:\n",
    "        print(\"WARNING: Your password might not be safe.\")\n",
    "    print(\"WARNING: This is only a demo. It is NOT designed for protecting actual secrets.\")\n",
    "    return"
   ]
  },
  {
   "cell_type": "code",
   "execution_count": null,
   "metadata": {},
   "outputs": [],
   "source": [
    "def decode(file_path, keys, max_bin_digit=16):\n",
    "\n",
    "    with open(file_path, 'rb') as file:\n",
    "        binary_values = file.read()\n",
    "    code = ''.join(format(byte, '08b') for byte in binary_values)\n",
    "    \n",
    "    # Reduplicate the shuffling with same kesy\n",
    "    idx = np.arange(len(code))\n",
    "    for key in keys:\n",
    "        random.seed(key)\n",
    "        random.shuffle(idx)\n",
    "\n",
    "    # Reverse the shuffling\n",
    "    ordered = ''.join(np.array(list(code))[np.argsort(np.array(idx))])\n",
    "\n",
    "    with open(file_path.replace(\".bin\", \"_decoded.txt\"), 'w') as file:\n",
    "        file.write(\n",
    "            ''.join([chr(int(ordered[i*max_bin_digit:(i+1)*max_bin_digit], 2)) for i in range(len(ordered)//max_bin_digit)])\n",
    "        )\n",
    "    return"
   ]
  },
  {
   "cell_type": "code",
   "execution_count": 5,
   "metadata": {},
   "outputs": [
    {
     "data": {
      "text/plain": [
       "[26143, 22402, 24179, 37326, 38420, 26376, 28044, 22823, 27743, 27969]"
      ]
     },
     "execution_count": 5,
     "metadata": {},
     "output_type": "execute_result"
    }
   ],
   "source": [
    "# Generate keys\n",
    "# Suggestion: use at least ten 4-digit decimal integer keys\n",
    "keys = [ord(c) for c in '星垂平野阔月涌大江流']\n",
    "keys"
   ]
  },
  {
   "cell_type": "code",
   "execution_count": 6,
   "metadata": {},
   "outputs": [
    {
     "name": "stdout",
     "output_type": "stream",
     "text": [
      "WARNING: This is only a demo. It is NOT designed for protecting actual secrets.\n"
     ]
    }
   ],
   "source": [
    "# Make sure the file is in TXT format before encoding it\n",
    "encode(\"secret.txt\", keys)"
   ]
  },
  {
   "cell_type": "code",
   "execution_count": null,
   "metadata": {},
   "outputs": [
    {
     "data": {
      "text/plain": [
       "'00000001110100100000000000000100001110100101001000'"
      ]
     },
     "execution_count": 7,
     "metadata": {},
     "output_type": "execute_result"
    }
   ],
   "source": [
    "# Binary Code\n",
    "with open('secret_encoded.bin', 'rb') as file:\n",
    "    binary_values = file.read()\n",
    "code = ''.join(format(byte, '08b') for byte in binary_values)\n",
    "code[:50]"
   ]
  },
  {
   "cell_type": "code",
   "execution_count": 8,
   "metadata": {},
   "outputs": [],
   "source": [
    "decode('secret_encoded.bin', keys)"
   ]
  },
  {
   "cell_type": "code",
   "execution_count": 9,
   "metadata": {},
   "outputs": [
    {
     "data": {
      "text/plain": [
       "'Four score and seven years ago our fathers brought forth on this continent, a new nation, conceived in Liberty, and dedicated to the proposition that all men are created equal.\\n\\nNow we are engaged in '"
      ]
     },
     "execution_count": 9,
     "metadata": {},
     "output_type": "execute_result"
    }
   ],
   "source": [
    "# Decoded file\n",
    "with open('secret_encoded_decoded.txt', 'r') as file:\n",
    "    text = file.read()\n",
    "text[:200]"
   ]
  }
 ],
 "metadata": {
  "kernelspec": {
   "display_name": "base",
   "language": "python",
   "name": "python3"
  },
  "language_info": {
   "codemirror_mode": {
    "name": "ipython",
    "version": 3
   },
   "file_extension": ".py",
   "mimetype": "text/x-python",
   "name": "python",
   "nbconvert_exporter": "python",
   "pygments_lexer": "ipython3",
   "version": "3.11.4"
  }
 },
 "nbformat": 4,
 "nbformat_minor": 2
}
